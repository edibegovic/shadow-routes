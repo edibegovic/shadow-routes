{
 "cells": [
  {
   "cell_type": "code",
   "execution_count": 1,
   "id": "dab57cd5",
   "metadata": {},
   "outputs": [],
   "source": [
    "import sys\n",
    "sys.path.append('..')\n",
    "import numpy as np\n",
    "from coolroutes import planning, visualization\n",
    "import geopandas as gpd\n",
    "import pandas as pd"
   ]
  },
  {
   "cell_type": "code",
   "execution_count": 2,
   "id": "f13ab7a0",
   "metadata": {},
   "outputs": [
    {
     "data": {
      "text/html": [
       "<div>\n",
       "<style scoped>\n",
       "    .dataframe tbody tr th:only-of-type {\n",
       "        vertical-align: middle;\n",
       "    }\n",
       "\n",
       "    .dataframe tbody tr th {\n",
       "        vertical-align: top;\n",
       "    }\n",
       "\n",
       "    .dataframe thead th {\n",
       "        text-align: right;\n",
       "    }\n",
       "</style>\n",
       "<table border=\"1\" class=\"dataframe\">\n",
       "  <thead>\n",
       "    <tr style=\"text-align: right;\">\n",
       "      <th></th>\n",
       "      <th>group_id</th>\n",
       "      <th>traffic</th>\n",
       "      <th>shade</th>\n",
       "    </tr>\n",
       "  </thead>\n",
       "  <tbody>\n",
       "    <tr>\n",
       "      <th>0</th>\n",
       "      <td>154</td>\n",
       "      <td>0.121661</td>\n",
       "      <td>[0, 0, 0, 0, 0, 0, 0, 0, 0, 0, 0, 0, 0, 0, 0, ...</td>\n",
       "    </tr>\n",
       "    <tr>\n",
       "      <th>1</th>\n",
       "      <td>153</td>\n",
       "      <td>0.130427</td>\n",
       "      <td>[0, 0, 0, 0, 0, 0, 0, 0, 0, 0, 0, 0, 0, 0, 0, ...</td>\n",
       "    </tr>\n",
       "    <tr>\n",
       "      <th>2</th>\n",
       "      <td>152</td>\n",
       "      <td>0.521088</td>\n",
       "      <td>[0, 0, 0, 0, 0, 0, 0, 0, 0, 0, 0, 0, 0, 0, 0, ...</td>\n",
       "    </tr>\n",
       "    <tr>\n",
       "      <th>3</th>\n",
       "      <td>158</td>\n",
       "      <td>0.997976</td>\n",
       "      <td>[0, 0, 0, 0, 0, 0, 0, 0, 0, 0, 0, 0, 0, 0, 0, ...</td>\n",
       "    </tr>\n",
       "    <tr>\n",
       "      <th>4</th>\n",
       "      <td>157</td>\n",
       "      <td>0.116246</td>\n",
       "      <td>[0, 0, 0, 0, 0, 0, 0, 0, 0, 0, 0, 0, 0, 0, 0, ...</td>\n",
       "    </tr>\n",
       "  </tbody>\n",
       "</table>\n",
       "</div>"
      ],
      "text/plain": [
       "   group_id   traffic                                              shade\n",
       "0       154  0.121661  [0, 0, 0, 0, 0, 0, 0, 0, 0, 0, 0, 0, 0, 0, 0, ...\n",
       "1       153  0.130427  [0, 0, 0, 0, 0, 0, 0, 0, 0, 0, 0, 0, 0, 0, 0, ...\n",
       "2       152  0.521088  [0, 0, 0, 0, 0, 0, 0, 0, 0, 0, 0, 0, 0, 0, 0, ...\n",
       "3       158  0.997976  [0, 0, 0, 0, 0, 0, 0, 0, 0, 0, 0, 0, 0, 0, 0, ...\n",
       "4       157  0.116246  [0, 0, 0, 0, 0, 0, 0, 0, 0, 0, 0, 0, 0, 0, 0, ..."
      ]
     },
     "execution_count": 2,
     "metadata": {},
     "output_type": "execute_result"
    }
   ],
   "source": [
    "original = pd.read_pickle(\"./top_138_shade_data_w_traffic.pickle\")\n",
    "original = gpd.GeoDataFrame(original, crs=3857, geometry=\"geometry\")\n",
    "\n",
    "to_process = original[[\"group_id\", \"traffic\", \"13_shade_block\"]]\n",
    "to_process = to_process.rename(columns={\"13_shade_block\":\"shade\"})\n",
    "to_process.shade = to_process.shade.apply(lambda x: x.values)\n",
    "to_process.traffic = to_process.traffic.apply(lambda x: x / max(to_process.traffic))\n",
    "to_process.head()"
   ]
  },
  {
   "cell_type": "code",
   "execution_count": 3,
   "id": "53c387e2",
   "metadata": {},
   "outputs": [
    {
     "name": "stderr",
     "output_type": "stream",
     "text": [
      "D:\\Documents\\GitHub\\shadow-routes\\experiments\\..\\coolroutes\\planning.py:25: SettingWithCopyWarning: \n",
      "A value is trying to be set on a copy of a slice from a DataFrame.\n",
      "Try using .loc[row_indexer,col_indexer] = value instead\n",
      "\n",
      "See the caveats in the documentation: https://pandas.pydata.org/pandas-docs/stable/user_guide/indexing.html#returning-a-view-versus-a-copy\n",
      "  gdf[\"shade_percent\"] = gdf.shade.apply(lambda x: sum(x)/len(x))\n"
     ]
    },
    {
     "data": {
      "text/html": [
       "<div>\n",
       "<style scoped>\n",
       "    .dataframe tbody tr th:only-of-type {\n",
       "        vertical-align: middle;\n",
       "    }\n",
       "\n",
       "    .dataframe tbody tr th {\n",
       "        vertical-align: top;\n",
       "    }\n",
       "\n",
       "    .dataframe thead th {\n",
       "        text-align: right;\n",
       "    }\n",
       "</style>\n",
       "<table border=\"1\" class=\"dataframe\">\n",
       "  <thead>\n",
       "    <tr style=\"text-align: right;\">\n",
       "      <th></th>\n",
       "      <th>group_id</th>\n",
       "      <th>possible_to_plant</th>\n",
       "      <th>possible_shade_gain</th>\n",
       "      <th>cost</th>\n",
       "      <th>score</th>\n",
       "    </tr>\n",
       "  </thead>\n",
       "  <tbody>\n",
       "    <tr>\n",
       "      <th>6</th>\n",
       "      <td>155</td>\n",
       "      <td>[110, 240, 24, 6, 10, 19, 20, 11, 10, 13, 32, ...</td>\n",
       "      <td>0.770073</td>\n",
       "      <td>844</td>\n",
       "      <td>0.837608</td>\n",
       "    </tr>\n",
       "    <tr>\n",
       "      <th>63</th>\n",
       "      <td>99</td>\n",
       "      <td>[201, 15, 110, 75, 15, 48, 5, 6, 87, 32]</td>\n",
       "      <td>0.818182</td>\n",
       "      <td>594</td>\n",
       "      <td>0.781049</td>\n",
       "    </tr>\n",
       "  </tbody>\n",
       "</table>\n",
       "</div>"
      ],
      "text/plain": [
       "    group_id                                  possible_to_plant   \n",
       "6        155  [110, 240, 24, 6, 10, 19, 20, 11, 10, 13, 32, ...  \\\n",
       "63        99           [201, 15, 110, 75, 15, 48, 5, 6, 87, 32]   \n",
       "\n",
       "    possible_shade_gain  cost     score  \n",
       "6              0.770073   844  0.837608  \n",
       "63             0.818182   594  0.781049  "
      ]
     },
     "execution_count": 3,
     "metadata": {},
     "output_type": "execute_result"
    }
   ],
   "source": [
    "result = planning.naive_selection(to_process, 2000)\n",
    "result.head()"
   ]
  },
  {
   "cell_type": "code",
   "execution_count": 5,
   "id": "2f8135fc",
   "metadata": {},
   "outputs": [],
   "source": [
    "selected = original[original.group_id.isin(result.group_id)]"
   ]
  },
  {
   "cell_type": "code",
   "execution_count": null,
   "id": "9055b580",
   "metadata": {},
   "outputs": [],
   "source": [
    "data_sources = [\n",
    "    selected, \"Bicycle network\"),\n",
    "]\n",
    "\n",
    "vis = visualization.Vis()\n",
    "vis.save_to_html(data_sources)\n",
    "vis.display()"
   ]
  }
 ],
 "metadata": {
  "kernelspec": {
   "display_name": "Python 3 (ipykernel)",
   "language": "python",
   "name": "python3"
  },
  "language_info": {
   "codemirror_mode": {
    "name": "ipython",
    "version": 3
   },
   "file_extension": ".py",
   "mimetype": "text/x-python",
   "name": "python",
   "nbconvert_exporter": "python",
   "pygments_lexer": "ipython3",
   "version": "3.10.10"
  }
 },
 "nbformat": 4,
 "nbformat_minor": 5
}
