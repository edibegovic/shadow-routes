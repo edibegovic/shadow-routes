{
 "cells": [
  {
   "cell_type": "code",
   "execution_count": 1,
   "id": "fa5e55f6",
   "metadata": {},
   "outputs": [],
   "source": [
    "from coolroutes import geometry, visualization\n",
    "import geopandas as gpd\n",
    "import pandas as pd"
   ]
  },
  {
   "cell_type": "code",
   "execution_count": null,
   "id": "29708b42",
   "metadata": {},
   "outputs": [],
   "source": [
    "trees = geometry.Trees().load_geojson()\n",
    "buildings = geometry.Buildings().load_geojson()\n",
    "network = geometry.Network().load_geojson()"
   ]
  },
  {
   "cell_type": "code",
   "execution_count": null,
   "id": "1554b207",
   "metadata": {},
   "outputs": [],
   "source": [
    "d = '2022-10-21 16:45:33.95979'\n",
    "date = pd.to_datetime(d)\\\n",
    "        .tz_localize('Europe/Copenhagen')\\\n",
    "        .tz_convert('UTC')\n",
    "\n",
    "tree_shadows = trees.get_shadows(date)\n",
    "building_shadows = buildings.get_shadows(date)"
   ]
  },
  {
   "cell_type": "code",
   "execution_count": null,
   "id": "6cc6ad1a",
   "metadata": {},
   "outputs": [],
   "source": [
    "rides = gpd.read_file(\"./model/rides.geojson\")"
   ]
  },
  {
   "cell_type": "code",
   "execution_count": null,
   "id": "0d58f0e8",
   "metadata": {},
   "outputs": [],
   "source": [
    "test_ride = rides.iloc[100]\n",
    "start_point = test_ride.geometry.boundary.geoms[0]\n",
    "end_point = test_ride.geometry.boundary.geoms[-1]\n",
    "\n",
    "path = network.get_shortest_route(start_point, end_point)"
   ]
  },
  {
   "cell_type": "code",
   "execution_count": null,
   "id": "35afaa9a",
   "metadata": {},
   "outputs": [],
   "source": [
    "data_sources = [\n",
    "    (buildings.gdf, \"Buildings\"),\n",
    "    (building_shadows, \"Building shadows\"),\n",
    "    (trees.gdf, \"Trees\"),\n",
    "    (tree_shadows, \"Tree shadows\"),\n",
    "    (network.gdf, \"Bicycle network\"),\n",
    "    (path, \"Path\")\n",
    "]\n",
    "\n",
    "vis = visualization.Vis()\n",
    "vis.save_to_html(data_sources)\n",
    "vis.display()"
   ]
  }
 ],
 "metadata": {
  "kernelspec": {
   "display_name": "Python 3 (ipykernel)",
   "language": "python",
   "name": "python3"
  },
  "language_info": {
   "codemirror_mode": {
    "name": "ipython",
    "version": 3
   },
   "file_extension": ".py",
   "mimetype": "text/x-python",
   "name": "python",
   "nbconvert_exporter": "python",
   "pygments_lexer": "ipython3",
   "version": "3.10.10"
  }
 },
 "nbformat": 4,
 "nbformat_minor": 5
}
